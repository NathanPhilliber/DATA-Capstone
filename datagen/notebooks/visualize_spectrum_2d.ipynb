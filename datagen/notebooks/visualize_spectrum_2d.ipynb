{
 "cells": [
  {
   "cell_type": "code",
   "execution_count": 5,
   "metadata": {
    "pycharm": {
     "is_executing": false
    }
   },
   "outputs": [],
   "source": [
    "from utils import *\n",
    "import pickle\n",
    "import matplotlib.pyplot as plt\n",
    "from PIL import Image, ImageDraw\n",
    "import numpy as np\n",
    "import math\n",
    "import os\n",
    "\n",
    "\n",
    "%matplotlib inline"
   ]
  },
  {
   "cell_type": "code",
   "execution_count": 6,
   "metadata": {
    "pycharm": {
     "is_executing": false
    }
   },
   "outputs": [],
   "source": [
    "set_name = \"set_100nc\"\n",
    "data = pickle.load(open(os.path.join(DATA_DIR, set_name, TRAIN_DATASET_PREFIX + \"_\" + set_name + \".\" + DATASET_FILE_TYPE), \"rb\"))"
   ]
  },
  {
   "cell_type": "code",
   "execution_count": 7,
   "metadata": {
    "pycharm": {
     "is_executing": false
    }
   },
   "outputs": [],
   "source": [
    "i = 2\n",
    "spectrum = np.array(data[i][\"dm\"])\n",
    "n_peak = data[i][\"n\"]\n",
    "peak_locations = data[i][\"peak_locations\"]"
   ]
  },
  {
   "cell_type": "code",
   "execution_count": 53,
   "outputs": [],
   "source": [
    "def do_color(rgba):\n",
    "\n",
    "    # Color extremas differently to differentiate noise better\n",
    "    rgba[2] += int(.05*((rgba[2]/255 - .5)**2)*255)\n",
    "    rgba[2] = max(min(rgba[2], 255), 0) # Clamp it\n",
    "\n",
    "    # Alpha channel\n",
    "    rgba[3] = 255\n",
    "    \n",
    "    return rgba\n"
   ],
   "metadata": {
    "collapsed": false,
    "pycharm": {
     "name": "#%%\n",
     "is_executing": false
    }
   }
  },
  {
   "cell_type": "code",
   "execution_count": 56,
   "metadata": {
    "pycharm": {
     "is_executing": false,
     "name": "#%%\n"
    }
   },
   "outputs": [],
   "source": [
    "w, h = 1000, 500 # final image dimension in pixels\n",
    "\n",
    "draw_data = (spectrum*200 + 55).astype(np.uint8)\n",
    "draw_data_rgba = np.stack((draw_data,)*4, axis=-1)\n",
    "draw_data_rgba = np.apply_along_axis(do_color, 2, draw_data_rgba)\n",
    "\n",
    "img = Image.fromarray(draw_data_rgba, 'RGBA')\n",
    "\n",
    "draw = ImageDraw.Draw(img) \n",
    "for peak in peak_locations[0]:\n",
    "    x_loc = peak*w\n",
    "    draw.line((x_loc,0,x_loc,h), fill=(255,0,0,255))\n",
    "\n",
    "img = img.resize((w,h), Image.NEAREST)\n",
    "img.save('spectrum_100channels-wred.png')\n",
    "img.show()\n"
   ]
  },
  {
   "cell_type": "code",
   "execution_count": 54,
   "outputs": [],
   "source": [
    "w, h = 1000, 20\n",
    "\n",
    "key_spectrum = (np.arange(0, 1.0, .001) * 200 + 55).astype(np.uint8)\n",
    "key_spectrum = key_spectrum.reshape(1, key_spectrum.shape[0])\n",
    "draw_key_rgba = np.stack((key_spectrum,)*4, axis=-1)\n",
    "draw_key_rgba = np.apply_along_axis(do_color, 2, draw_key_rgba)\n",
    "\n",
    "img = Image.fromarray(draw_key_rgba, 'RGBA')\n",
    "img = img.resize((w,h), Image.NEAREST)\n",
    "img.save('key.png')\n",
    "img.show()"
   ],
   "metadata": {
    "collapsed": false,
    "pycharm": {
     "name": "#%%\n",
     "is_executing": false
    }
   }
  },
  {
   "cell_type": "code",
   "execution_count": 36,
   "outputs": [
    {
     "data": {
      "text/plain": "array([[[ 55,  55,  55,  55],\n        [ 55,  55,  55,  55],\n        [ 92,  92,  92,  92],\n        ...,\n        [254, 254, 254, 254],\n        [254, 254, 254, 254],\n        [254, 254, 254, 254]]], dtype=uint8)"
     },
     "metadata": {},
     "output_type": "execute_result",
     "execution_count": 36
    }
   ],
   "source": [
    "draw_key_rgba\n"
   ],
   "metadata": {
    "collapsed": false,
    "pycharm": {
     "name": "#%%\n",
     "is_executing": false
    }
   }
  }
 ],
 "metadata": {
  "kernelspec": {
   "display_name": "Python 3",
   "language": "python",
   "name": "python3"
  },
  "language_info": {
   "codemirror_mode": {
    "name": "ipython",
    "version": 3
   },
   "file_extension": ".py",
   "mimetype": "text/x-python",
   "name": "python",
   "nbconvert_exporter": "python",
   "pygments_lexer": "ipython3",
   "version": "3.7.1"
  },
  "pycharm": {
   "stem_cell": {
    "cell_type": "raw",
    "source": [],
    "metadata": {
     "collapsed": false
    }
   }
  }
 },
 "nbformat": 4,
 "nbformat_minor": 4
}