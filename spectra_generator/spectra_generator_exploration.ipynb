{
 "cells": [
  {
   "cell_type": "code",
   "execution_count": 56,
   "metadata": {},
   "outputs": [],
   "source": [
    "import numpy as np\n",
    "import math\n",
    "np.random.seed(0)"
   ]
  },
  {
   "cell_type": "code",
   "execution_count": 76,
   "metadata": {},
   "outputs": [],
   "source": [
    "np.random.seed(2)\n",
    "max_resonances = 5\n",
    "N = int(np.floor(np.random.rand()*max_resonances) + 1)\n",
    "num_channels=10\n",
    "num_columns = 3\n",
    "scale = 1\n",
    "omega_shift = 10\n",
    "\n",
    "omega = np.random.rand(N) + 10\n",
    "gamma = (scale/max_resonances)*(1 + 1.8*(np.random.rand(N) - 0.5))/4\n",
    "#phase = np.zeros(N, int)\n",
    "#amp = np.zeros(N, int)\n",
    "phase_0 = 2 * math.pi * np.random.rand(num_channels*num_columns, N)\n",
    "amp_0 = np.random.rand(num_channels*num_columns, N)\n",
    "\n",
    "n = 1000*omega_shift\n",
    "omega_i = 0\n",
    "omega_f = 2 * omega_shift + 1\n",
    "omega = np.arange(omega_i, omega_f, (omega_f - omega_i)/(n - 1))"
   ]
  },
  {
   "cell_type": "code",
   "execution_count": 160,
   "metadata": {},
   "outputs": [],
   "source": [
    "# for loop\n",
    "range_list = np.arange(np.floor(n*(0.5 - 0.5/omega_shift)), np.floor(n*(0.5 + 0.5/omega_shift))).astype(int)\n",
    "jj = 3\n",
    "L = np.zeros(n-1)\n",
    "phase = phase_0[jj, :]\n",
    "amp = amp_0[jj,:]\n",
    "L = L + amp[i]/2 * (np.exp(1j*phase[i]) / (omega[i] + omega+ 1j + gamma[i]) + np.exp(-1j*phase[i])/(omega - omega[i] + 1j*gamma[i]))\n",
    "c_F = np.abs(L)\n",
    "d = c_F**2\n",
    "d = (d - min(d[range_list])) / (max(d[range_list])) - min(d[range_list])\n",
    "dm = d[range_list]"
   ]
  },
  {
   "cell_type": "code",
   "execution_count": 133,
   "metadata": {},
   "outputs": [],
   "source": [
    "part_a = amp[i]/2 * np.exp(1j*phase[i])\n",
    "part_b = (omega[i] + omega+ 1j + gamma[i]) \n",
    "part_c = np.exp(-1j*phase[i])\n",
    "part_d = (omega - omega[i] + 1j*gamma[i])\n",
    "part_ab = part_a/part_b\n",
    "part_cd = part_c/part_d\n",
    "part_ab_cd = part_ab + part_cd"
   ]
  }
 ],
 "metadata": {
  "kernelspec": {
   "display_name": "Python 3",
   "language": "python",
   "name": "python3"
  },
  "language_info": {
   "codemirror_mode": {
    "name": "ipython",
    "version": 3
   },
   "file_extension": ".py",
   "mimetype": "text/x-python",
   "name": "python",
   "nbconvert_exporter": "python",
   "pygments_lexer": "ipython3",
   "version": "3.7.3"
  }
 },
 "nbformat": 4,
 "nbformat_minor": 2
}
