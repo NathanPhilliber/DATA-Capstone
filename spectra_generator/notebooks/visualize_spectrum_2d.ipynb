{
 "cells": [
  {
   "cell_type": "code",
   "execution_count": 131,
   "metadata": {},
   "outputs": [],
   "source": [
    "import pickle\n",
    "import matplotlib.pyplot as plt\n",
    "from PIL import Image, ImageDraw\n",
    "import numpy as np\n",
    "import math\n",
    "\n",
    "%matplotlib inline"
   ]
  },
  {
   "cell_type": "code",
   "execution_count": 6,
   "metadata": {},
   "outputs": [],
   "source": [
    "data = pickle.load(open(\"../data/test_01.pkl\", \"rb\"))"
   ]
  },
  {
   "cell_type": "code",
   "execution_count": 204,
   "metadata": {},
   "outputs": [],
   "source": [
    "spectrum = data[0][\"dm\"]\n",
    "n_peak = data[0][\"n\"]\n",
    "peak_locations = data[0][\"peak_locations\"]"
   ]
  },
  {
   "cell_type": "code",
   "execution_count": 203,
   "metadata": {},
   "outputs": [],
   "source": [
    "w, h = 1000, 200 # final image dimension in pixels\n",
    "\n",
    "def do_color(rgba):\n",
    "\n",
    "    # Color extremas differently to differentiate noise better\n",
    "    rgba[2] += int(1.8*((rgba[2]/255 - .5)**2)*255)\n",
    "    rgba[2] = max(min(rgba[2], 255), 0) # Clamp it\n",
    "\n",
    "    # Alpha channel\n",
    "    rgba[3] = 255\n",
    "    \n",
    "    return rgba\n",
    "\n",
    "draw_data = (spectrum*200 + 55).astype(np.uint8)\n",
    "draw_data_rgba = np.stack((draw_data,)*4, axis=-1)\n",
    "draw_data_rgba = np.apply_along_axis(do_color, 2, draw_data_rgba)\n",
    "\n",
    "img = Image.fromarray(draw_data_rgba, 'RGBA')\n",
    "\n",
    "draw = ImageDraw.Draw(img) \n",
    "for peak in peak_locations[0]:\n",
    "    x_loc = peak*w\n",
    "    draw.line((x_loc,0,x_loc,h), fill=(255,0,0,255))\n",
    "\n",
    "img = img.resize((w,h), Image.NEAREST)\n",
    "img.save('spectrum.png')\n",
    "img.show()"
   ]
  },
  {
   "cell_type": "code",
   "execution_count": null,
   "metadata": {},
   "outputs": [],
   "source": []
  }
 ],
 "metadata": {
  "kernelspec": {
   "display_name": "Python 3",
   "language": "python",
   "name": "python3"
  },
  "language_info": {
   "codemirror_mode": {
    "name": "ipython",
    "version": 3
   },
   "file_extension": ".py",
   "mimetype": "text/x-python",
   "name": "python",
   "nbconvert_exporter": "python",
   "pygments_lexer": "ipython3",
   "version": "3.7.1"
  }
 },
 "nbformat": 4,
 "nbformat_minor": 4
}
