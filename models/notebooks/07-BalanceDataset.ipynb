{
 "cells": [
  {
   "cell_type": "code",
   "execution_count": 2,
   "metadata": {
    "collapsed": true,
    "pycharm": {
     "is_executing": false
    }
   },
   "outputs": [],
   "source": [
    "import os\n",
    "from utils import *\n",
    "import pickle\n",
    "import json\n",
    "import click\n",
    "from datagen.loadmatlab import mat_to_spectra\n",
    "\n"
   ]
  },
  {
   "cell_type": "code",
   "execution_count": 12,
   "outputs": [
    {
     "name": "stdout",
     "text": [
      "Not a data file: gen_info.json\n"
     ],
     "output_type": "stream"
    }
   ],
   "source": [
    "dataset_path = os.path.join(DATA_DIR, \"eval_set_all\")\n",
    "new_dataset_path = os.path.join(DATA_DIR, \"eval_set_balanced\")\n",
    "\n",
    "gen_info = json.load(open(os.path.join(dataset_path, DATAGEN_CONFIG), \"rb\"))\n",
    "\n",
    "try:\n",
    "    os.mkdir(new_dataset_path)\n",
    "except:\n",
    "    pass\n",
    "\n",
    "set_name = os.path.splitext(os.path.basename(dataset_path))[0]\n",
    "\n",
    "train_files = []\n",
    "test_files = []\n",
    "\n",
    "files = os.listdir(dataset_path)\n",
    "for myfile in files:\n",
    "    if TRAIN_DATASET_PREFIX in myfile:\n",
    "        train_files.append(os.path.join(dataset_path, myfile))\n",
    "    elif TEST_DATASET_PREFIX in myfile:\n",
    "        test_files.append(os.path.join(dataset_path, myfile))\n",
    "    else:\n",
    "        print(f\"Not a data file: {myfile}\")\n",
    "        "
   ],
   "metadata": {
    "collapsed": false,
    "pycharm": {
     "name": "#%%\n",
     "is_executing": false
    }
   }
  },
  {
   "cell_type": "code",
   "execution_count": 13,
   "outputs": [],
   "source": [
    "data_files = train_files + test_files"
   ],
   "metadata": {
    "collapsed": false,
    "pycharm": {
     "name": "#%%\n",
     "is_executing": false
    }
   }
  },
  {
   "cell_type": "code",
   "execution_count": 14,
   "outputs": [
    {
     "name": "stdout",
     "text": [
      "Processing /home/nathan/PycharmProjects/DATA-Capstone/data/datasets/eval_set_all/train_eval_set_all.pkl\n",
      "Processing /home/nathan/PycharmProjects/DATA-Capstone/data/datasets/eval_set_all/test_eval_set_all.pkl\n"
     ],
     "output_type": "stream"
    }
   ],
   "source": [
    "peak_dict = {1:[], 2:[], 3:[], 4:[]}\n",
    "\n",
    "for data_i, data_file in enumerate(data_files):\n",
    "    print(f\"Processing {data_file}\")\n",
    "    data_all = pickle.load(open(data_file, \"rb\"))\n",
    "    data = []\n",
    "\n",
    "    # Filter out undesired data here\n",
    "    for spectra in data_all:\n",
    "        num_peaks = spectra['n']\n",
    "\n",
    "        peak_dict[num_peaks].append(spectra)"
   ],
   "metadata": {
    "collapsed": false,
    "pycharm": {
     "name": "#%%\n",
     "is_executing": false
    }
   }
  },
  {
   "cell_type": "code",
   "execution_count": 15,
   "outputs": [],
   "source": [
    "save_amount = 250\n",
    "\n",
    "all_data = []\n",
    "for num_peaks, data in peak_dict.items():\n",
    "    assert len(data) >= save_amount, \"Not enough data\"\n",
    "    \n",
    "    all_data.extend(data[:save_amount])"
   ],
   "metadata": {
    "collapsed": false,
    "pycharm": {
     "name": "#%%\n",
     "is_executing": false
    }
   }
  },
  {
   "cell_type": "code",
   "execution_count": 16,
   "outputs": [],
   "source": [
    "pickle.dump(all_data, open(os.path.join(new_dataset_path, f\"{TEST_DATASET_PREFIX}_eval_set.{DATASET_FILE_TYPE}\"), \"wb\"))"
   ],
   "metadata": {
    "collapsed": false,
    "pycharm": {
     "name": "#%%\n",
     "is_executing": false
    }
   }
  },
  {
   "cell_type": "code",
   "execution_count": 18,
   "outputs": [],
   "source": [
    "gen_info[\"num_instances\"] = len(all_data)\n",
    "json.dump(gen_info, open(os.path.join(new_dataset_path, DATAGEN_CONFIG), \"w\"))\n"
   ],
   "metadata": {
    "collapsed": false,
    "pycharm": {
     "name": "#%%\n",
     "is_executing": false
    }
   }
  }
 ],
 "metadata": {
  "kernelspec": {
   "display_name": "Python 3",
   "language": "python",
   "name": "python3"
  },
  "language_info": {
   "codemirror_mode": {
    "name": "ipython",
    "version": 2
   },
   "file_extension": ".py",
   "mimetype": "text/x-python",
   "name": "python",
   "nbconvert_exporter": "python",
   "pygments_lexer": "ipython2",
   "version": "2.7.6"
  },
  "pycharm": {
   "stem_cell": {
    "cell_type": "raw",
    "source": [],
    "metadata": {
     "collapsed": false
    }
   }
  }
 },
 "nbformat": 4,
 "nbformat_minor": 0
}