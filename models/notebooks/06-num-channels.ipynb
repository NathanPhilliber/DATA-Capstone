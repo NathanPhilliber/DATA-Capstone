{
 "cells": [
  {
   "cell_type": "code",
   "execution_count": 2,
   "metadata": {},
   "outputs": [
    {
     "name": "stdout",
     "output_type": "stream",
     "text": [
      "/Users/mateoibarguen/Desktop/DATA-Capstone\n"
     ]
    }
   ],
   "source": [
    "%cd .."
   ]
  },
  {
   "cell_type": "code",
   "execution_count": 3,
   "metadata": {},
   "outputs": [],
   "source": [
    "from models.networks.lstm_models import *\n",
    "from models.spectra_preprocessor import *"
   ]
  },
  {
   "cell_type": "code",
   "execution_count": 9,
   "metadata": {},
   "outputs": [
    {
     "name": "stdout",
     "output_type": "stream",
     "text": [
      "dataset_name:  test\n",
      "subset_name:  train\n",
      "dataset_name:  test\n",
      "subset_name:  test\n"
     ]
    }
   ],
   "source": [
    "spectra_pp = SpectraPreprocessor(dataset_name='test', num_channels=5, num_instances=100, use_generator=False)"
   ]
  },
  {
   "cell_type": "code",
   "execution_count": 10,
   "metadata": {},
   "outputs": [],
   "source": [
    "X_train, y_train, X_test, y_test = spectra_pp.transform(encoded=True)"
   ]
  },
  {
   "cell_type": "code",
   "execution_count": 12,
   "metadata": {},
   "outputs": [
    {
     "data": {
      "text/plain": [
       "array([[0, 1, 2],\n",
       "       [0, 1, 2],\n",
       "       [3, 4, 5]])"
      ]
     },
     "execution_count": 12,
     "metadata": {},
     "output_type": "execute_result"
    }
   ],
   "source": [
    "a = np.array([[0, 1, 2], [3, 4, 5]])\n",
    "np.pad(a, ((1, 0), (0, 0)), 'symmetric')"
   ]
  },
  {
   "cell_type": "code",
   "execution_count": 13,
   "metadata": {},
   "outputs": [],
   "source": [
    "class GoogleModel(BaseModel):\n",
    "\n",
    "    def set_params_range(self):\n",
    "        return {'conv_1': {'type': 'integer', 'min': 8, 'max': 64, 'default': 16},\n",
    "                'conv_2': {'type': 'integer', 'min': 8, 'max': 64, 'default': 32},\n",
    "                'bi_1': {'type': 'float', 'min': 8, 'max': 128, 'default': 128},\n",
    "                'bi_2': {'type': 'integer', 'min': 8, 'max': 128, 'default': 128},\n",
    "                'drop_1': {'type': 'float', 'min': 0, 'max': 1, 'default': 0.01},\n",
    "                'dense_1': {'type': 'float', 'min': 8, 'max': 128, 'default': 64},\n",
    "                'drop_2': {'type': 'float', 'min': 0, 'max': 1, 'default': 0.05}\n",
    "                }\n",
    "\n",
    "    def build_model(self, num_channels, num_timesteps, output_shape, params):\n",
    "        \"\"\"\n",
    "        From: https://github.com/douglas125/SpeechCmdRecognition/blob/master/SpeechModels.py\n",
    "\n",
    "        \"\"\"\n",
    "        model = Sequential()\n",
    "        model.add(Conv1D(params['conv_1'], 5, input_shape=(num_timesteps, num_channels)))\n",
    "        model.add(BatchNormalization())\n",
    "        model.add(Conv1D(params['conv_2'], 5))\n",
    "        model.add(BatchNormalization())\n",
    "        model.add(Bidirectional(LSTM(params['bi_1'], return_sequences=True)))\n",
    "        model.add(Bidirectional(LSTM(params['bi_2'], return_sequences=True)))\n",
    "        model.add(Attention(293))\n",
    "        model.add(Dropout(params['drop_1']))\n",
    "        model.add(Dense(params['dense_1'], activation='elu'))\n",
    "        model.add(Dropout(params['drop_2']))\n",
    "        model.add(Dense(output_shape, activation='softmax'))\n",
    "        return model"
   ]
  },
  {
   "cell_type": "code",
   "execution_count": 14,
   "metadata": {},
   "outputs": [],
   "source": [
    "g = GoogleModel(num_channels=10, num_timesteps=301, output_shape=5)"
   ]
  },
  {
   "cell_type": "code",
   "execution_count": 16,
   "metadata": {},
   "outputs": [],
   "source": [
    "#g.fit(X_train, y_train, X_test, y_test, 64, 1, compile_dict=baseline_model_compile_dict)"
   ]
  },
  {
   "cell_type": "code",
   "execution_count": null,
   "metadata": {},
   "outputs": [],
   "source": []
  }
 ],
 "metadata": {
  "kernelspec": {
   "display_name": "Python 3",
   "language": "python",
   "name": "python3"
  },
  "language_info": {
   "codemirror_mode": {
    "name": "ipython",
    "version": 3
   },
   "file_extension": ".py",
   "mimetype": "text/x-python",
   "name": "python",
   "nbconvert_exporter": "python",
   "pygments_lexer": "ipython3",
   "version": "3.7.3"
  }
 },
 "nbformat": 4,
 "nbformat_minor": 2
}
