{
 "cells": [
  {
   "cell_type": "code",
   "execution_count": 2,
   "metadata": {},
   "outputs": [
    {
     "name": "stdout",
     "output_type": "stream",
     "text": [
      "/Users/mateoibarguen/Desktop/DATA-Capstone\n"
     ]
    }
   ],
   "source": [
    "%cd .."
   ]
  },
  {
   "cell_type": "code",
   "execution_count": 3,
   "metadata": {},
   "outputs": [],
   "source": [
    "from spectra_generator import Spectrum, SpectraLoader, SpectraGenerator\n",
    "import pickle\n",
    "import pandas as pd\n",
    "import numpy as np\n",
    "from sklearn.model_selection import train_test_split\n",
    "from sklearn.preprocessing import OneHotEncoder\n",
    "from spectra_models import BaseModel"
   ]
  },
  {
   "cell_type": "code",
   "execution_count": 5,
   "metadata": {},
   "outputs": [],
   "source": [
    "def spectra_train_test_splitter(spectra_loader, test_size=0.15, random_seed=42):\n",
    "    spectra = np.array(spectra_loader.spectra)\n",
    "    n_peaks = np.array(spectra_loader.get_n())\n",
    "    spectra_train , spectra_test, _, _ = train_test_split(spectra, n_peaks, stratify=n_peaks)\n",
    "    return spectra_train , spectra_test"
   ]
  },
  {
   "cell_type": "code",
   "execution_count": 6,
   "metadata": {},
   "outputs": [],
   "source": [
    "def find_nearest(array, value):\n",
    "    array = np.asarray(array)\n",
    "    idx = (np.abs(array - value)).argmin()\n",
    "    return idx"
   ]
  },
  {
   "cell_type": "code",
   "execution_count": 7,
   "metadata": {},
   "outputs": [],
   "source": [
    "class SpectraPreprocessor:\n",
    "    def __init__(self, train_filename, test_filename):\n",
    "        self.train_filename = train_filename\n",
    "        self.test_filename = test_filename\n",
    "        self.train_spectra_loader = SpectraLoader(self.train_filename)\n",
    "        self.test_spectra_loader = SpectraLoader(self.test_filename)\n",
    "        self.one_hot_encoder = OneHotEncoder(sparse=False, categories='auto')\n",
    "    \n",
    "    def get_data(self, loader):\n",
    "        dm = np.array(loader.get_dm())\n",
    "        X = dm.reshape(dm.shape[0], dm.shape[2], dm.shape[1], 1)\n",
    "        del dm\n",
    "        y = np.array(loader.get_n())\n",
    "        y = y.reshape(y.shape[0], 1)\n",
    "        return X, y\n",
    "    \n",
    "    def transform(self):\n",
    "        X_train, y_train = self.get_data(self.train_spectra_loader)\n",
    "        X_test, y_test = self.get_data(self.test_spectra_loader)\n",
    "        y_train_enc = self.one_hot_encoder.fit_transform(y_train)\n",
    "        y_test_enc = self.one_hot_encoder.transform(y_test)\n",
    "        del y_train, y_test\n",
    "        return X_train, y_train_enc, X_test, y_test_enc\n",
    "        \n",
    "        "
   ]
  },
  {
   "cell_type": "code",
   "execution_count": 8,
   "metadata": {},
   "outputs": [],
   "source": [
    "train_path = 'spectra_models/data/set_01/train_01.pkl'\n",
    "test_path = 'spectra_models/data/set_01/test_01.pkl'\n",
    "spectra_preprocessor = SpectraPreprocessor(train_filename=train_path, test_filename=test_path)"
   ]
  },
  {
   "cell_type": "code",
   "execution_count": 9,
   "metadata": {},
   "outputs": [],
   "source": [
    "X_train, y_train, X_test, y_test = spectra_preprocessor.transform()"
   ]
  },
  {
   "cell_type": "markdown",
   "metadata": {},
   "source": [
    "### Train/Test Split"
   ]
  },
  {
   "cell_type": "code",
   "execution_count": 27,
   "metadata": {},
   "outputs": [],
   "source": [
    "spectra_train, spectra_test = spectra_train_test_splitter('spectra_generator/data/spectra_01.pkl')\n",
    "spectra_train_json = [spectrum.__dict__ for spectrum in spectra_train]\n",
    "spectra_test_json = [spectrum.__dict__ for spectrum in spectra_test]\n",
    "\n",
    "SpectraGenerator.save_spectra(spectra_train_json, \"spectra_models/data/set_01/train_01.pkl\")\n",
    "SpectraGenerator.save_spectra(spectra_test_json, \"spectra_models/data/set_01/test_01.pkl\")"
   ]
  },
  {
   "cell_type": "code",
   "execution_count": 42,
   "metadata": {},
   "outputs": [],
   "source": [
    "train_path = 'spectra_models/data/set_01/train_01.pkl'\n",
    "test_path = 'spectra_models/data/set_01/test_01.pkl'\n",
    "train_preprocessor = SpectraPreprocessor(train_path)\n",
    "test_preprocessor = SpectraPreprocessor(test_path)"
   ]
  },
  {
   "cell_type": "markdown",
   "metadata": {},
   "source": [
    "## Model Experimentation"
   ]
  },
  {
   "cell_type": "code",
   "execution_count": 10,
   "metadata": {},
   "outputs": [
    {
     "name": "stderr",
     "output_type": "stream",
     "text": [
      "Using TensorFlow backend.\n"
     ]
    }
   ],
   "source": [
    "from keras.models import Sequential\n",
    "from keras.layers import Dense, Conv2D, Flatten\n",
    "\n",
    "\n",
    "model = Sequential()\n",
    "model.add(Conv2D(32, kernel_size=3, activation='relu', input_shape=(1001, 10, 1)))\n",
    "model.add(Conv2D(16, kernel_size=3, activation='relu'))\n",
    "model.add(Flatten())\n",
    "model.add(Dense(5, activation='sigmoid'))"
   ]
  },
  {
   "cell_type": "code",
   "execution_count": 14,
   "metadata": {},
   "outputs": [],
   "source": [
    "compile_dict = {'optimizer': 'adam', 'loss': 'categorical_crossentropy', 'metrics':['accuracy']}"
   ]
  },
  {
   "cell_type": "code",
   "execution_count": 15,
   "metadata": {},
   "outputs": [],
   "source": [
    "baseline_model = BaseModel(model)"
   ]
  },
  {
   "cell_type": "code",
   "execution_count": 16,
   "metadata": {},
   "outputs": [
    {
     "name": "stdout",
     "output_type": "stream",
     "text": [
      "WARNING:tensorflow:From /Applications/anaconda3/lib/python3.7/site-packages/tensorflow/python/ops/math_grad.py:1250: add_dispatch_support.<locals>.wrapper (from tensorflow.python.ops.array_ops) is deprecated and will be removed in a future version.\n",
      "Instructions for updating:\n",
      "Use tf.where in 2.0, which has the same broadcast rule as np.where\n",
      "WARNING:tensorflow:From /Applications/anaconda3/lib/python3.7/site-packages/keras/backend/tensorflow_backend.py:422: The name tf.global_variables is deprecated. Please use tf.compat.v1.global_variables instead.\n",
      "\n",
      "Train on 6000 samples, validate on 1500 samples\n",
      "Epoch 1/3\n",
      "6000/6000 [==============================] - 23s 4ms/step - loss: 1.5873 - accuracy: 0.2517 - val_loss: 1.5492 - val_accuracy: 0.2900\n",
      "Epoch 2/3\n",
      "6000/6000 [==============================] - 28s 5ms/step - loss: 1.4899 - accuracy: 0.3415 - val_loss: 1.5395 - val_accuracy: 0.3020\n",
      "Epoch 3/3\n",
      "6000/6000 [==============================] - 29s 5ms/step - loss: 1.2879 - accuracy: 0.4320 - val_loss: 1.3919 - val_accuracy: 0.3647\n"
     ]
    }
   ],
   "source": [
    "baseline_model.fit(X_train, y_train, epochs=3, batch_size=16, compile_dict=compile_dict)"
   ]
  },
  {
   "cell_type": "code",
   "execution_count": 124,
   "metadata": {},
   "outputs": [],
   "source": [
    "compile_dict = {'optimizer': 'adam', 'loss': 'categorical_crossentropy', 'lr': 0.03}\n",
    "model.compile(**compile_dict)"
   ]
  },
  {
   "cell_type": "code",
   "execution_count": 125,
   "metadata": {},
   "outputs": [],
   "source": [
    "model.compile(optimizer='sgd', loss = 'categorical_crossentropy')"
   ]
  },
  {
   "cell_type": "code",
   "execution_count": 126,
   "metadata": {},
   "outputs": [],
   "source": [
    "X_train, y_train = train_preprocessor.transform()\n",
    "X_test, y_test = test_preprocessor.transform()"
   ]
  },
  {
   "cell_type": "code",
   "execution_count": 127,
   "metadata": {},
   "outputs": [
    {
     "name": "stderr",
     "output_type": "stream",
     "text": [
      "/Applications/anaconda3/lib/python3.7/site-packages/sklearn/preprocessing/_encoders.py:414: FutureWarning: The handling of integer data will change in version 0.22. Currently, the categories are determined based on the range [0, max(values)], while in the future they will be determined based on the unique values.\n",
      "If you want the future behaviour and silence this warning, you can specify \"categories='auto'\".\n",
      "In case you used a LabelEncoder before this OneHotEncoder to convert the categories to integers, then you can now use the OneHotEncoder directly.\n",
      "  warnings.warn(msg, FutureWarning)\n"
     ]
    }
   ],
   "source": [
    "from sklearn.preprocessing import OneHotEncoder\n",
    "one_hot = OneHotEncoder(sparse=False)\n",
    "y_train_enc = one_hot.fit_transform(y_train.reshape(y_train.shape[0], 1))\n",
    "y_test_enc = one_hot.transform(y_test.reshape(y_test.shape[0], 1))"
   ]
  },
  {
   "cell_type": "code",
   "execution_count": null,
   "metadata": {},
   "outputs": [],
   "source": [
    "class PeakModel:\n",
    "    def __init__(self, model, batch_size, epochs):\n",
    "        self.model = model\n",
    "        self.batch_size = batch_size\n",
    "        self.epochs = epochs\n",
    "        \n",
    "    def train(self):\n",
    "        self.model.fit(X_train, )\n",
    "        \n",
    "    def save(self):\n",
    "        configs = self.model.get_cofig()\n",
    "        "
   ]
  },
  {
   "cell_type": "code",
   "execution_count": 103,
   "metadata": {},
   "outputs": [],
   "source": [
    "from keras.models import model_from_json\n",
    "m = model_from_json(model.to_json())"
   ]
  },
  {
   "cell_type": "code",
   "execution_count": 128,
   "metadata": {
    "scrolled": false
   },
   "outputs": [
    {
     "name": "stdout",
     "output_type": "stream",
     "text": [
      "Train on 6000 samples, validate on 1500 samples\n",
      "Epoch 1/1\n",
      "6000/6000 [==============================] - 29s 5ms/step - loss: 1.6089 - val_loss: 1.6087\n"
     ]
    },
    {
     "data": {
      "text/plain": [
       "<keras.callbacks.callbacks.History at 0x1d091f3e48>"
      ]
     },
     "execution_count": 128,
     "metadata": {},
     "output_type": "execute_result"
    }
   ],
   "source": [
    "model.fit(X_train, y_train_enc, validation_split=0.20, epochs=1, batch_size=16)"
   ]
  },
  {
   "cell_type": "code",
   "execution_count": 129,
   "metadata": {},
   "outputs": [
    {
     "name": "stdout",
     "output_type": "stream",
     "text": [
      "2500/2500 [==============================] - 2s 885us/step\n"
     ]
    },
    {
     "data": {
      "text/plain": [
       "1.60618284740448"
      ]
     },
     "execution_count": 129,
     "metadata": {},
     "output_type": "execute_result"
    }
   ],
   "source": [
    "model.evaluate(X_test, y_test_enc)"
   ]
  },
  {
   "cell_type": "code",
   "execution_count": null,
   "metadata": {},
   "outputs": [],
   "source": []
  }
 ],
 "metadata": {
  "kernelspec": {
   "display_name": "Python 3",
   "language": "python",
   "name": "python3"
  },
  "language_info": {
   "codemirror_mode": {
    "name": "ipython",
    "version": 3
   },
   "file_extension": ".py",
   "mimetype": "text/x-python",
   "name": "python",
   "nbconvert_exporter": "python",
   "pygments_lexer": "ipython3",
   "version": "3.7.3"
  },
  "pycharm": {
   "stem_cell": {
    "cell_type": "raw",
    "metadata": {
     "collapsed": false
    },
    "source": []
   }
  }
 },
 "nbformat": 4,
 "nbformat_minor": 2
}
