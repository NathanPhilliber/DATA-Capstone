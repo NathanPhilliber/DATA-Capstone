{
 "cells": [
  {
   "cell_type": "code",
   "execution_count": 5,
   "metadata": {},
   "outputs": [
    {
     "name": "stdout",
     "output_type": "stream",
     "text": [
      "/Users/mateoibarguen/Desktop/DATA-Capstone\n"
     ]
    }
   ],
   "source": [
    "%cd .."
   ]
  },
  {
   "cell_type": "code",
   "execution_count": 6,
   "metadata": {},
   "outputs": [],
   "source": [
    "from spectra_generator import Spectrum, SpectraLoader, SpectraGenerator\n",
    "import pickle\n",
    "import pandas as pd\n",
    "import numpy as np\n",
    "from sklearn.model_selection import train_test_split"
   ]
  },
  {
   "cell_type": "code",
   "execution_count": 17,
   "metadata": {},
   "outputs": [],
   "source": [
    "def spectra_train_test_splitter(spectra_filename, test_size=0.15, random_seed=42):\n",
    "    spectra_loader = SpectraLoader(spectra_filename)\n",
    "    spectra = np.array(spectra_loader.spectra)\n",
    "    n_peaks = np.array(spectra_loader.get_n())\n",
    "    spectra_train , spectra_test, _, _ = train_test_split(spectra, n_peaks, stratify=n_peaks)\n",
    "    return spectra_train , spectra_test"
   ]
  },
  {
   "cell_type": "code",
   "execution_count": 18,
   "metadata": {},
   "outputs": [],
   "source": [
    "def find_nearest(array, value):\n",
    "    array = np.asarray(array)\n",
    "    idx = (np.abs(array - value)).argmin()\n",
    "    return idx"
   ]
  },
  {
   "cell_type": "code",
   "execution_count": 19,
   "metadata": {},
   "outputs": [],
   "source": [
    "class SpectraPreprocessor:\n",
    "    def __init__(self, spectra_filename):\n",
    "        self.spectra_filename = spectra_filename\n",
    "        self.spectra_loader = SpectraLoader(self.spectra_filename)\n",
    "        \n",
    "    \n",
    "    def get_locations(self, spectrum):\n",
    "        if spectrum.n == 1:\n",
    "            return [spectrum.peak_locations]\n",
    "        else:\n",
    "            return spectrum.peak_locations[0]\n",
    "    \n",
    "    def standardize_locs(self, locs):\n",
    "        dimensionality = len(self.spectra_loader.get_dm()[0][0])\n",
    "        x_range = np.linspace(0.0, 1.0, dimensionality)\n",
    "        x_filled = np.linspace(0.0, 0.0, dimensionality)\n",
    "        for loc in locs:\n",
    "            x_filled[find_nearest(x_range, loc)] = 1\n",
    "        return x_filled\n",
    "        \n",
    "        \n",
    "    def transform(self):\n",
    "        locs = pd.Series(self.spectra_loader.spectra).apply(self.get_locations)\n",
    "        X = np.stack([dm.T for dm in self.spectra_loader.get_dm()], axis=0)\n",
    "        y = locs.apply(self.standardize_locs)\n",
    "        del locs\n",
    "        return X, y\n",
    "    \n",
    "    "
   ]
  },
  {
   "cell_type": "code",
   "execution_count": 20,
   "metadata": {},
   "outputs": [],
   "source": [
    "spectra_preprocessor = SpectraPreprocessor('spectra_generator/data/spectra_01.pkl')"
   ]
  },
  {
   "cell_type": "code",
   "execution_count": 21,
   "metadata": {},
   "outputs": [],
   "source": [
    "spectra_train, spectra_test = spectra_train_test_splitter('spectra_generator/data/spectra_01.pkl')\n",
    "spectra_train_json = [spectrum.__dict__ for spectrum in spectra_train]\n",
    "spectra_test_json = [spectrum.__dict__ for spectrum in spectra_test]\n",
    "\n",
    "SpectraGenerator.save_spectra(spectra_train_json, \"spectra_models/data/set_01/train_01.pkl\")\n",
    "SpectraGenerator.save_spectra(spectra_test_json, \"spectra_models/data/set_01/test_01.pkl\")"
   ]
  },
  {
   "cell_type": "code",
   "execution_count": 22,
   "metadata": {},
   "outputs": [],
   "source": [
    "train_path = 'spectra_models/data/set_01/train_01.pkl'\n",
    "test_path = 'spectra_models/data/set_01/test_01.pkl'\n",
    "train_preprocessor = SpectraPreprocessor(train_path)\n",
    "test_preprocessor = SpectraPreprocessor(test_path)"
   ]
  },
  {
   "cell_type": "code",
   "execution_count": 23,
   "metadata": {},
   "outputs": [],
   "source": [
    "random_sample = np.random.randint(0, 7500, 1000)"
   ]
  },
  {
   "cell_type": "code",
   "execution_count": 42,
   "metadata": {},
   "outputs": [],
   "source": [
    "# X_train_full, y_train_full = train_preprocessor.transform()\n",
    "# X_train_sub, y_train_sub = X_train_full[random_sample], y_train_full[random_sample]\n",
    "X_train = X_train_sub.reshape(1000, 1001, 10, 1)\n",
    "y_train = np.stack(y_train_sub, axis=0)"
   ]
  },
  {
   "cell_type": "code",
   "execution_count": 43,
   "metadata": {},
   "outputs": [],
   "source": [
    "from keras.models import Sequential\n",
    "from keras.layers import Dense, Conv2D, Flatten\n",
    "#create model\n",
    "model = Sequential()\n",
    "#add model layers\n",
    "model.add(Conv2D(64, kernel_size=3, activation='relu', input_shape=(1001, 10, 1)))\n",
    "model.add(Conv2D(32, kernel_size=3, activation='relu'))\n",
    "model.add(Flatten())\n",
    "model.add(Dense(1001, activation='sigmoid'))"
   ]
  },
  {
   "cell_type": "code",
   "execution_count": 50,
   "metadata": {},
   "outputs": [],
   "source": [
    "model.compile(optimizer='adam', loss='mse', metrics=['cosine_proximity'])"
   ]
  },
  {
   "cell_type": "code",
   "execution_count": null,
   "metadata": {},
   "outputs": [
    {
     "name": "stdout",
     "output_type": "stream",
     "text": [
      "Epoch 1/3\n",
      " 150/1000 [===>..........................] - ETA: 10:47 - loss: 0.0121 - cosine_proximity: 0.0101"
     ]
    }
   ],
   "source": [
    "model.fit(X_train, y_train, epochs=3, batch_size=3)"
   ]
  },
  {
   "cell_type": "code",
   "execution_count": null,
   "metadata": {},
   "outputs": [],
   "source": []
  }
 ],
 "metadata": {
  "kernelspec": {
   "display_name": "Python 3",
   "language": "python",
   "name": "python3"
  },
  "language_info": {
   "codemirror_mode": {
    "name": "ipython",
    "version": 3
   },
   "file_extension": ".py",
   "mimetype": "text/x-python",
   "name": "python",
   "nbconvert_exporter": "python",
   "pygments_lexer": "ipython3",
   "version": "3.7.3"
  },
  "pycharm": {
   "stem_cell": {
    "cell_type": "raw",
    "metadata": {
     "collapsed": false
    },
    "source": []
   }
  }
 },
 "nbformat": 4,
 "nbformat_minor": 2
}
